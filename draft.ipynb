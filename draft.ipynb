{
 "cells": [
  {
   "cell_type": "markdown",
   "metadata": {},
   "source": [
    "## Import libraries "
   ]
  },
  {
   "cell_type": "code",
   "execution_count": 2,
   "metadata": {},
   "outputs": [],
   "source": [
    "from PIL import Image\n",
    "import pytesseract\n",
    "import cv2\n",
    "import os\n",
    "import pandas as pd\n",
    "pytesseract.pytesseract.tesseract_cmd = r'C:\\Program Files\\Tesseract-OCR\\tesseract.exe'"
   ]
  },
  {
   "cell_type": "markdown",
   "metadata": {},
   "source": [
    "## Crop original image"
   ]
  },
  {
   "cell_type": "markdown",
   "metadata": {},
   "source": [
    "décorticer l'image en 5 images : \n",
    "- jeekjne "
   ]
  },
  {
   "cell_type": "code",
   "execution_count": 4,
   "metadata": {},
   "outputs": [
    {
     "ename": "NameError",
     "evalue": "name 'index' is not defined",
     "output_type": "error",
     "traceback": [
      "\u001b[1;31m---------------------------------------------------------------------------\u001b[0m",
      "\u001b[1;31mNameError\u001b[0m                                 Traceback (most recent call last)",
      "\u001b[1;32m~\\AppData\\Local\\Temp/ipykernel_11824/2158140887.py\u001b[0m in \u001b[0;36m<module>\u001b[1;34m\u001b[0m\n\u001b[0;32m     36\u001b[0m     \u001b[1;32mreturn\u001b[0m \u001b[0mfilename\u001b[0m\u001b[1;33m\u001b[0m\u001b[1;33m\u001b[0m\u001b[0m\n\u001b[0;32m     37\u001b[0m \u001b[1;33m\u001b[0m\u001b[0m\n\u001b[1;32m---> 38\u001b[1;33m \u001b[0mcrop_orig_img\u001b[0m\u001b[1;33m(\u001b[0m\u001b[0mimg\u001b[0m\u001b[1;33m)\u001b[0m\u001b[1;33m\u001b[0m\u001b[1;33m\u001b[0m\u001b[0m\n\u001b[0m\u001b[0;32m     39\u001b[0m \u001b[1;31m#crop_orig_img(raw_img)\u001b[0m\u001b[1;33m\u001b[0m\u001b[1;33m\u001b[0m\u001b[1;33m\u001b[0m\u001b[0m\n",
      "\u001b[1;32m~\\AppData\\Local\\Temp/ipykernel_11824/2158140887.py\u001b[0m in \u001b[0;36mcrop_orig_img\u001b[1;34m(img)\u001b[0m\n\u001b[0;32m      9\u001b[0m \u001b[1;33m\u001b[0m\u001b[0m\n\u001b[0;32m     10\u001b[0m \u001b[1;32mdef\u001b[0m \u001b[0mcrop_orig_img\u001b[0m\u001b[1;33m(\u001b[0m\u001b[0mimg\u001b[0m\u001b[1;33m)\u001b[0m\u001b[1;33m:\u001b[0m\u001b[1;33m\u001b[0m\u001b[1;33m\u001b[0m\u001b[0m\n\u001b[1;32m---> 11\u001b[1;33m     \u001b[0mfoo\u001b[0m\u001b[1;33m(\u001b[0m\u001b[1;33m)\u001b[0m\u001b[1;33m\u001b[0m\u001b[1;33m\u001b[0m\u001b[0m\n\u001b[0m\u001b[0;32m     12\u001b[0m     \u001b[1;31m# Prints Dimensions of the image\u001b[0m\u001b[1;33m\u001b[0m\u001b[1;33m\u001b[0m\u001b[1;33m\u001b[0m\u001b[0m\n\u001b[0;32m     13\u001b[0m     \u001b[0mprint\u001b[0m\u001b[1;33m(\u001b[0m\u001b[0mimg\u001b[0m\u001b[1;33m.\u001b[0m\u001b[0mshape\u001b[0m\u001b[1;33m)\u001b[0m\u001b[1;33m\u001b[0m\u001b[1;33m\u001b[0m\u001b[0m\n",
      "\u001b[1;32m~\\AppData\\Local\\Temp/ipykernel_11824/2158140887.py\u001b[0m in \u001b[0;36mfoo\u001b[1;34m()\u001b[0m\n\u001b[0;32m      5\u001b[0m \u001b[1;32mdef\u001b[0m \u001b[0mfoo\u001b[0m\u001b[1;33m(\u001b[0m\u001b[1;33m)\u001b[0m\u001b[1;33m:\u001b[0m\u001b[1;33m\u001b[0m\u001b[1;33m\u001b[0m\u001b[0m\n\u001b[0;32m      6\u001b[0m     \u001b[1;32mglobal\u001b[0m \u001b[0mindex\u001b[0m\u001b[1;33m\u001b[0m\u001b[1;33m\u001b[0m\u001b[0m\n\u001b[1;32m----> 7\u001b[1;33m     \u001b[0mindex\u001b[0m \u001b[1;33m+=\u001b[0m \u001b[1;36m1\u001b[0m\u001b[1;33m\u001b[0m\u001b[1;33m\u001b[0m\u001b[0m\n\u001b[0m\u001b[0;32m      8\u001b[0m     \u001b[1;32mreturn\u001b[0m \u001b[0mindex\u001b[0m\u001b[1;33m\u001b[0m\u001b[1;33m\u001b[0m\u001b[0m\n\u001b[0;32m      9\u001b[0m \u001b[1;33m\u001b[0m\u001b[0m\n",
      "\u001b[1;31mNameError\u001b[0m: name 'index' is not defined"
     ]
    }
   ],
   "source": [
    "img=cv2.imread('src/info_project1.jpeg')\n",
    "raw_img=cv2.imread('src/info_project.PNG')\n",
    "#index = 0\n",
    "\n",
    "def foo():\n",
    "    global index\n",
    "    index += 1\n",
    "    return index\n",
    "\n",
    "def crop_orig_img(img):\n",
    "    foo()\n",
    "    # Prints Dimensions of the image\n",
    "    print(img.shape)\n",
    "\n",
    "    # crop the part where the vaLues should be detected\n",
    "    cropped_image = img[157:729, 0:295] \n",
    "    filename = \"src/v{}.png\".format(index)\n",
    "    cv2.imwrite(filename, cropped_image)\n",
    "\n",
    "    # crop the part where the vaues should be detected\n",
    "    cropped_image1 = img[54:380, 295:651] \n",
    "    filename1 = \"src/d1_{}.png\".format(index)\n",
    "    cv2.imwrite(filename1, cropped_image1)\n",
    "\n",
    "    cropped_image2 = img[54:380, 660:1015] \n",
    "    filename2 = \"src/d2_{}.png\".format(index)\n",
    "    cv2.imwrite(filename2, cropped_image2)\n",
    "\n",
    "    cropped_image3 = img[380:710, 295:651] \n",
    "    filename3 = \"src/d3_{}.png\".format(index)\n",
    "    cv2.imwrite(filename3, cropped_image3)\n",
    "\n",
    "    cropped_image4 = img[380:710, 660:1015] \n",
    "    filename4 = \"src/d4_{}.png\".format(index)\n",
    "    cv2.imwrite(filename4, cropped_image4)\n",
    "    return filename\n",
    "\n",
    "crop_orig_img(img)\n",
    "#crop_orig_img(raw_img)"
   ]
  },
  {
   "cell_type": "markdown",
   "metadata": {},
   "source": [
    "## Part 1"
   ]
  },
  {
   "cell_type": "markdown",
   "metadata": {},
   "source": [
    "### Crop v image "
   ]
  },
  {
   "cell_type": "code",
   "execution_count": 8,
   "metadata": {},
   "outputs": [],
   "source": [
    "# crop v image to all value sections and create dict key as title of the value and the value empty  \n",
    "index = 0\n",
    "def crop_vimg(v):\n",
    "    foo()\n",
    "    cropped_vimg = img[380:710, 660:1015]    # a modifier par la suite (i need les coordonnées)\n",
    "    filename = \"src/v{}.png\".format(index)\n",
    "    cv2.imwrite(filename, cropped_vimg)   # dict ...\n",
    "    return"
   ]
  },
  {
   "cell_type": "markdown",
   "metadata": {},
   "source": [
    "### Numbers detection"
   ]
  },
  {
   "cell_type": "markdown",
   "metadata": {},
   "source": [
    "Image to String"
   ]
  },
  {
   "cell_type": "code",
   "execution_count": null,
   "metadata": {},
   "outputs": [],
   "source": [
    "def img2str(image):\n",
    "    # convert image ??\n",
    "    gray = cv2.cvtColor(image, cv2.COLOR_BGR2RGB)\n",
    "\n",
    "    # Create filename for ouput image\n",
    "    filename = \"output{}.png\".format(os.getpid())\n",
    "\n",
    "    cv2.imwrite(filename, gray)\n",
    "    # cv2.imshow(gray)\n",
    "\n",
    "\n",
    "    text = pytesseract.image_to_string(Image.open(filename))\n",
    "    os.remove(filename)\n",
    "    # spliting the text\n",
    "\n",
    "    text = text.split()\n",
    "    return text"
   ]
  },
  {
   "cell_type": "markdown",
   "metadata": {},
   "source": [
    "filter numbers and convert to float "
   ]
  },
  {
   "cell_type": "code",
   "execution_count": 35,
   "metadata": {},
   "outputs": [],
   "source": [
    "# check if string contain digits \n",
    "def containsNumber(val):\n",
    "    res = False\n",
    "    for char in val:\n",
    "        if char.isdigit():\n",
    "            res = True\n",
    "            break\n",
    "    return res \n",
    "\n",
    "\n",
    "# select digits from a value\n",
    "def str2float(val):\n",
    "    res = ''\n",
    "    if containsNumber(val):\n",
    "        for char in val:\n",
    "            if char.isdigit() or char == \".\":\n",
    "                res += char\n",
    "        return float(res)"
   ]
  },
  {
   "cell_type": "markdown",
   "metadata": {},
   "source": [
    "detect number from an image"
   ]
  },
  {
   "cell_type": "code",
   "execution_count": null,
   "metadata": {},
   "outputs": [],
   "source": [
    "def img2float(img):\n",
    "    text = img2str(img)\n",
    "    for char in text:\n",
    "        if containsNumber(char):\n",
    "            print(str2float(char))\n",
    "        else:\n",
    "            pass"
   ]
  },
  {
   "cell_type": "markdown",
   "metadata": {},
   "source": [
    "## Part 2"
   ]
  },
  {
   "cell_type": "markdown",
   "metadata": {},
   "source": [
    "## Insert images folder -> run code part 1 & 2 -> create dataframe"
   ]
  },
  {
   "cell_type": "code",
   "execution_count": 6,
   "metadata": {},
   "outputs": [],
   "source": [
    "folder = input(\"Saisir dossier correspondant : \")"
   ]
  },
  {
   "cell_type": "code",
   "execution_count": 19,
   "metadata": {},
   "outputs": [],
   "source": [
    "imgs = os.listdir(\"src/\")"
   ]
  },
  {
   "cell_type": "code",
   "execution_count": 20,
   "metadata": {},
   "outputs": [
    {
     "data": {
      "text/plain": [
       "['d11.png',\n",
       " 'd12.png',\n",
       " 'd13.png',\n",
       " 'd14.png',\n",
       " 'info_project.PNG',\n",
       " 'info_project1.jpeg',\n",
       " 'test1.jpg',\n",
       " 'test2.jpg',\n",
       " 'test3.png',\n",
       " 'v.png',\n",
       " 'v1.png',\n",
       " 'WhatsApp Image 2021-12-25 at 00.56.12.jpeg']"
      ]
     },
     "execution_count": 20,
     "metadata": {},
     "output_type": "execute_result"
    }
   ],
   "source": [
    "imgs "
   ]
  },
  {
   "cell_type": "code",
   "execution_count": 29,
   "metadata": {},
   "outputs": [
    {
     "data": {
      "text/html": [
       "<div>\n",
       "<style scoped>\n",
       "    .dataframe tbody tr th:only-of-type {\n",
       "        vertical-align: middle;\n",
       "    }\n",
       "\n",
       "    .dataframe tbody tr th {\n",
       "        vertical-align: top;\n",
       "    }\n",
       "\n",
       "    .dataframe thead th {\n",
       "        text-align: right;\n",
       "    }\n",
       "</style>\n",
       "<table border=\"1\" class=\"dataframe\">\n",
       "  <thead>\n",
       "    <tr style=\"text-align: right;\">\n",
       "      <th></th>\n",
       "      <th>raw_img</th>\n",
       "      <th>another_column</th>\n",
       "    </tr>\n",
       "  </thead>\n",
       "  <tbody>\n",
       "    <tr>\n",
       "      <th>0</th>\n",
       "      <td>d11.png</td>\n",
       "      <td>d11.png</td>\n",
       "    </tr>\n",
       "    <tr>\n",
       "      <th>1</th>\n",
       "      <td>d12.png</td>\n",
       "      <td>d12.png</td>\n",
       "    </tr>\n",
       "    <tr>\n",
       "      <th>2</th>\n",
       "      <td>d13.png</td>\n",
       "      <td>d13.png</td>\n",
       "    </tr>\n",
       "    <tr>\n",
       "      <th>3</th>\n",
       "      <td>d14.png</td>\n",
       "      <td>d14.png</td>\n",
       "    </tr>\n",
       "    <tr>\n",
       "      <th>4</th>\n",
       "      <td>info_project.PNG</td>\n",
       "      <td>info_project.PNG</td>\n",
       "    </tr>\n",
       "    <tr>\n",
       "      <th>5</th>\n",
       "      <td>info_project1.jpeg</td>\n",
       "      <td>info_project1.jpeg</td>\n",
       "    </tr>\n",
       "    <tr>\n",
       "      <th>6</th>\n",
       "      <td>test1.jpg</td>\n",
       "      <td>test1.jpg</td>\n",
       "    </tr>\n",
       "    <tr>\n",
       "      <th>7</th>\n",
       "      <td>test2.jpg</td>\n",
       "      <td>test2.jpg</td>\n",
       "    </tr>\n",
       "    <tr>\n",
       "      <th>8</th>\n",
       "      <td>test3.png</td>\n",
       "      <td>test3.png</td>\n",
       "    </tr>\n",
       "    <tr>\n",
       "      <th>9</th>\n",
       "      <td>v.png</td>\n",
       "      <td>v.png</td>\n",
       "    </tr>\n",
       "    <tr>\n",
       "      <th>10</th>\n",
       "      <td>v1.png</td>\n",
       "      <td>v1.png</td>\n",
       "    </tr>\n",
       "    <tr>\n",
       "      <th>11</th>\n",
       "      <td>WhatsApp Image 2021-12-25 at 00.56.12.jpeg</td>\n",
       "      <td>WhatsApp Image 2021-12-25 at 00.56.12.jpeg</td>\n",
       "    </tr>\n",
       "  </tbody>\n",
       "</table>\n",
       "</div>"
      ],
      "text/plain": [
       "                                       raw_img  \\\n",
       "0                                      d11.png   \n",
       "1                                      d12.png   \n",
       "2                                      d13.png   \n",
       "3                                      d14.png   \n",
       "4                             info_project.PNG   \n",
       "5                           info_project1.jpeg   \n",
       "6                                    test1.jpg   \n",
       "7                                    test2.jpg   \n",
       "8                                    test3.png   \n",
       "9                                        v.png   \n",
       "10                                      v1.png   \n",
       "11  WhatsApp Image 2021-12-25 at 00.56.12.jpeg   \n",
       "\n",
       "                                another_column  \n",
       "0                                      d11.png  \n",
       "1                                      d12.png  \n",
       "2                                      d13.png  \n",
       "3                                      d14.png  \n",
       "4                             info_project.PNG  \n",
       "5                           info_project1.jpeg  \n",
       "6                                    test1.jpg  \n",
       "7                                    test2.jpg  \n",
       "8                                    test3.png  \n",
       "9                                        v.png  \n",
       "10                                      v1.png  \n",
       "11  WhatsApp Image 2021-12-25 at 00.56.12.jpeg  "
      ]
     },
     "execution_count": 29,
     "metadata": {},
     "output_type": "execute_result"
    }
   ],
   "source": [
    "# create a dict with initial data\n",
    "d = {'raw_img':imgs, 'another_column':imgs}\n",
    "\n",
    "# create initial pandas dataframe\n",
    "df = pd.DataFrame(data=d)\n",
    " \n",
    "# print\n",
    "df"
   ]
  },
  {
   "cell_type": "code",
   "execution_count": 30,
   "metadata": {},
   "outputs": [
    {
     "data": {
      "text/plain": [
       "0                                        d11.png\n",
       "1                                        d12.png\n",
       "2                                        d13.png\n",
       "3                                        d14.png\n",
       "4                               info_project.PNG\n",
       "5                             info_project1.jpeg\n",
       "6                                      test1.jpg\n",
       "7                                      test2.jpg\n",
       "8                                      test3.png\n",
       "9                                          v.png\n",
       "10                                        v1.png\n",
       "11    WhatsApp Image 2021-12-25 at 00.56.12.jpeg\n",
       "Name: raw_img, dtype: object"
      ]
     },
     "execution_count": 30,
     "metadata": {},
     "output_type": "execute_result"
    }
   ],
   "source": [
    "df.raw_img"
   ]
  },
  {
   "cell_type": "code",
   "execution_count": 9,
   "metadata": {},
   "outputs": [],
   "source": [
    "# run code part 1 in order to insert data in df"
   ]
  },
  {
   "cell_type": "code",
   "execution_count": 8,
   "metadata": {},
   "outputs": [],
   "source": [
    "# run code part 2 in order to insert data in df"
   ]
  },
  {
   "cell_type": "markdown",
   "metadata": {},
   "source": [
    "## Bonus "
   ]
  },
  {
   "cell_type": "code",
   "execution_count": 10,
   "metadata": {},
   "outputs": [],
   "source": [
    "# make use of the dateframe to predict an illness"
   ]
  }
 ],
 "metadata": {
  "interpreter": {
   "hash": "b3ba2566441a7c06988d0923437866b63cedc61552a5af99d1f4fb67d367b25f"
  },
  "kernelspec": {
   "display_name": "Python 3.8.5 ('base')",
   "language": "python",
   "name": "python3"
  },
  "language_info": {
   "codemirror_mode": {
    "name": "ipython",
    "version": 3
   },
   "file_extension": ".py",
   "mimetype": "text/x-python",
   "name": "python",
   "nbconvert_exporter": "python",
   "pygments_lexer": "ipython3",
   "version": "3.7.9"
  },
  "orig_nbformat": 4
 },
 "nbformat": 4,
 "nbformat_minor": 2
}
